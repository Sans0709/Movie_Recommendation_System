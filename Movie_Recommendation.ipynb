{
  "cells": [
    {
      "cell_type": "markdown",
      "metadata": {
        "id": "view-in-github",
        "colab_type": "text"
      },
      "source": [
        "<a href=\"https://colab.research.google.com/github/Sans0709/Movie_Recommendation_System/blob/main/Movie_Recommendation.ipynb\" target=\"_parent\"><img src=\"https://colab.research.google.com/assets/colab-badge.svg\" alt=\"Open In Colab\"/></a>"
      ]
    },
    {
      "cell_type": "code",
      "execution_count": 41,
      "metadata": {
        "id": "YQFkGzwcc92u"
      },
      "outputs": [],
      "source": [
        "!pip install streamlit -q\n"
      ]
    },
    {
      "cell_type": "code",
      "execution_count": 42,
      "metadata": {
        "id": "R1IECha7g6kr",
        "colab": {
          "base_uri": "https://localhost:8080/"
        },
        "outputId": "af7cf039-38ac-4913-ab5e-5b1d09beaac3"
      },
      "outputs": [
        {
          "output_type": "stream",
          "name": "stdout",
          "text": [
            "Number of ratings: 100836\n",
            "Number of unique movieId's: 9724\n",
            "Number of unique users: 610\n",
            "Average ratings per user: 165.3\n",
            "Average ratings per movie: 10.37\n"
          ]
        }
      ],
      "source": [
        "import numpy as np\n",
        "import pandas as pd\n",
        "import sklearn\n",
        "import matplotlib.pyplot as plt\n",
        "import seaborn as sns\n",
        "import warnings\n",
        "warnings.simplefilter(action='ignore', category=FutureWarning)\n",
        "\n",
        "ratings = pd.read_csv(\"https://s3-us-west-2.amazonaws.com/recommender-tutorial/ratings.csv\")\n",
        "ratings.head()\n",
        "\n",
        "movies = pd.read_csv(\"https://s3-us-west-2.amazonaws.com/recommender-tutorial/movies.csv\")\n",
        "movies.head()\n",
        "\n",
        "no_of_ratings = len(ratings)\n",
        "no_of_movies = len(ratings['movieId'].unique())\n",
        "no_of_users = len(ratings['userId'].unique())\n",
        "\n",
        "# To calculate size of the Dataset\n",
        "print(f\"Number of ratings: {no_of_ratings}\")\n",
        "print(f\"Number of unique movieId's: {no_of_movies}\")\n",
        "print(f\"Number of unique users: {no_of_users}\")\n",
        "print(f\"Average ratings per user: {round(no_of_ratings/no_of_users, 2)}\")\n",
        "print(f\"Average ratings per movie: {round(no_of_ratings/no_of_movies, 2)}\")\n"
      ]
    },
    {
      "cell_type": "code",
      "execution_count": 43,
      "metadata": {
        "id": "W1m5WKxzg6hB"
      },
      "outputs": [],
      "source": [
        "movie_stat = ratings.groupby('movieId')[['rating']].agg(['count', 'mean'])\n",
        "movie_stat.columns = movie_stat.columns.droplevel()"
      ]
    },
    {
      "cell_type": "code",
      "execution_count": 44,
      "metadata": {
        "id": "Fk5BXCgrg6e7"
      },
      "outputs": [],
      "source": [
        "#To analyze which movies are the worst and best rated movies\n",
        "C = movie_stat['count'].mean()\n",
        "m = movie_stat['mean'].mean()\n",
        "\n",
        "def bayesian_avg(ratings):\n",
        "    bayesian_avg = (C*m+ratings.sum())/(C+ratings.count())\n",
        "    return bayesian_avg\n",
        "\n",
        "bayesian_avg_ratings = ratings.groupby('movieId')['rating'].agg(bayesian_avg).reset_index()\n",
        "bayesian_avg_ratings.columns = ['movieId', 'bayesian_avg']\n",
        "movie_stat = movie_stat.merge(bayesian_avg_ratings, on='movieId')"
      ]
    },
    {
      "cell_type": "code",
      "execution_count": 45,
      "metadata": {
        "id": "fGNVL4zwg6ae",
        "colab": {
          "base_uri": "https://localhost:8080/",
          "height": 206
        },
        "outputId": "1c9b083c-ae21-46f6-a931-80004aa114cd"
      },
      "outputs": [
        {
          "output_type": "execute_result",
          "data": {
            "text/plain": [
              "      movieId  count      mean  bayesian_avg  \\\n",
              "277       318    317  4.429022      4.392070   \n",
              "659       858    192  4.289062      4.236457   \n",
              "2224     2959    218  4.272936      4.227052   \n",
              "224       260    251  4.231076      4.192646   \n",
              "46         50    204  4.237745      4.190567   \n",
              "\n",
              "                                          title  \n",
              "277            Shawshank Redemption, The (1994)  \n",
              "659                       Godfather, The (1972)  \n",
              "2224                          Fight Club (1999)  \n",
              "224   Star Wars: Episode IV - A New Hope (1977)  \n",
              "46                   Usual Suspects, The (1995)  "
            ],
            "text/html": [
              "\n",
              "  <div id=\"df-c4240d7b-2c78-440b-abed-e5f76b040246\">\n",
              "    <div class=\"colab-df-container\">\n",
              "      <div>\n",
              "<style scoped>\n",
              "    .dataframe tbody tr th:only-of-type {\n",
              "        vertical-align: middle;\n",
              "    }\n",
              "\n",
              "    .dataframe tbody tr th {\n",
              "        vertical-align: top;\n",
              "    }\n",
              "\n",
              "    .dataframe thead th {\n",
              "        text-align: right;\n",
              "    }\n",
              "</style>\n",
              "<table border=\"1\" class=\"dataframe\">\n",
              "  <thead>\n",
              "    <tr style=\"text-align: right;\">\n",
              "      <th></th>\n",
              "      <th>movieId</th>\n",
              "      <th>count</th>\n",
              "      <th>mean</th>\n",
              "      <th>bayesian_avg</th>\n",
              "      <th>title</th>\n",
              "    </tr>\n",
              "  </thead>\n",
              "  <tbody>\n",
              "    <tr>\n",
              "      <th>277</th>\n",
              "      <td>318</td>\n",
              "      <td>317</td>\n",
              "      <td>4.429022</td>\n",
              "      <td>4.392070</td>\n",
              "      <td>Shawshank Redemption, The (1994)</td>\n",
              "    </tr>\n",
              "    <tr>\n",
              "      <th>659</th>\n",
              "      <td>858</td>\n",
              "      <td>192</td>\n",
              "      <td>4.289062</td>\n",
              "      <td>4.236457</td>\n",
              "      <td>Godfather, The (1972)</td>\n",
              "    </tr>\n",
              "    <tr>\n",
              "      <th>2224</th>\n",
              "      <td>2959</td>\n",
              "      <td>218</td>\n",
              "      <td>4.272936</td>\n",
              "      <td>4.227052</td>\n",
              "      <td>Fight Club (1999)</td>\n",
              "    </tr>\n",
              "    <tr>\n",
              "      <th>224</th>\n",
              "      <td>260</td>\n",
              "      <td>251</td>\n",
              "      <td>4.231076</td>\n",
              "      <td>4.192646</td>\n",
              "      <td>Star Wars: Episode IV - A New Hope (1977)</td>\n",
              "    </tr>\n",
              "    <tr>\n",
              "      <th>46</th>\n",
              "      <td>50</td>\n",
              "      <td>204</td>\n",
              "      <td>4.237745</td>\n",
              "      <td>4.190567</td>\n",
              "      <td>Usual Suspects, The (1995)</td>\n",
              "    </tr>\n",
              "  </tbody>\n",
              "</table>\n",
              "</div>\n",
              "      <button class=\"colab-df-convert\" onclick=\"convertToInteractive('df-c4240d7b-2c78-440b-abed-e5f76b040246')\"\n",
              "              title=\"Convert this dataframe to an interactive table.\"\n",
              "              style=\"display:none;\">\n",
              "        \n",
              "  <svg xmlns=\"http://www.w3.org/2000/svg\" height=\"24px\"viewBox=\"0 0 24 24\"\n",
              "       width=\"24px\">\n",
              "    <path d=\"M0 0h24v24H0V0z\" fill=\"none\"/>\n",
              "    <path d=\"M18.56 5.44l.94 2.06.94-2.06 2.06-.94-2.06-.94-.94-2.06-.94 2.06-2.06.94zm-11 1L8.5 8.5l.94-2.06 2.06-.94-2.06-.94L8.5 2.5l-.94 2.06-2.06.94zm10 10l.94 2.06.94-2.06 2.06-.94-2.06-.94-.94-2.06-.94 2.06-2.06.94z\"/><path d=\"M17.41 7.96l-1.37-1.37c-.4-.4-.92-.59-1.43-.59-.52 0-1.04.2-1.43.59L10.3 9.45l-7.72 7.72c-.78.78-.78 2.05 0 2.83L4 21.41c.39.39.9.59 1.41.59.51 0 1.02-.2 1.41-.59l7.78-7.78 2.81-2.81c.8-.78.8-2.07 0-2.86zM5.41 20L4 18.59l7.72-7.72 1.47 1.35L5.41 20z\"/>\n",
              "  </svg>\n",
              "      </button>\n",
              "      \n",
              "  <style>\n",
              "    .colab-df-container {\n",
              "      display:flex;\n",
              "      flex-wrap:wrap;\n",
              "      gap: 12px;\n",
              "    }\n",
              "\n",
              "    .colab-df-convert {\n",
              "      background-color: #E8F0FE;\n",
              "      border: none;\n",
              "      border-radius: 50%;\n",
              "      cursor: pointer;\n",
              "      display: none;\n",
              "      fill: #1967D2;\n",
              "      height: 32px;\n",
              "      padding: 0 0 0 0;\n",
              "      width: 32px;\n",
              "    }\n",
              "\n",
              "    .colab-df-convert:hover {\n",
              "      background-color: #E2EBFA;\n",
              "      box-shadow: 0px 1px 2px rgba(60, 64, 67, 0.3), 0px 1px 3px 1px rgba(60, 64, 67, 0.15);\n",
              "      fill: #174EA6;\n",
              "    }\n",
              "\n",
              "    [theme=dark] .colab-df-convert {\n",
              "      background-color: #3B4455;\n",
              "      fill: #D2E3FC;\n",
              "    }\n",
              "\n",
              "    [theme=dark] .colab-df-convert:hover {\n",
              "      background-color: #434B5C;\n",
              "      box-shadow: 0px 1px 3px 1px rgba(0, 0, 0, 0.15);\n",
              "      filter: drop-shadow(0px 1px 2px rgba(0, 0, 0, 0.3));\n",
              "      fill: #FFFFFF;\n",
              "    }\n",
              "  </style>\n",
              "\n",
              "      <script>\n",
              "        const buttonEl =\n",
              "          document.querySelector('#df-c4240d7b-2c78-440b-abed-e5f76b040246 button.colab-df-convert');\n",
              "        buttonEl.style.display =\n",
              "          google.colab.kernel.accessAllowed ? 'block' : 'none';\n",
              "\n",
              "        async function convertToInteractive(key) {\n",
              "          const element = document.querySelector('#df-c4240d7b-2c78-440b-abed-e5f76b040246');\n",
              "          const dataTable =\n",
              "            await google.colab.kernel.invokeFunction('convertToInteractive',\n",
              "                                                     [key], {});\n",
              "          if (!dataTable) return;\n",
              "\n",
              "          const docLinkHtml = 'Like what you see? Visit the ' +\n",
              "            '<a target=\"_blank\" href=https://colab.research.google.com/notebooks/data_table.ipynb>data table notebook</a>'\n",
              "            + ' to learn more about interactive tables.';\n",
              "          element.innerHTML = '';\n",
              "          dataTable['output_type'] = 'display_data';\n",
              "          await google.colab.output.renderOutput(dataTable, element);\n",
              "          const docLink = document.createElement('div');\n",
              "          docLink.innerHTML = docLinkHtml;\n",
              "          element.appendChild(docLink);\n",
              "        }\n",
              "      </script>\n",
              "    </div>\n",
              "  </div>\n",
              "  "
            ]
          },
          "metadata": {},
          "execution_count": 45
        }
      ],
      "source": [
        "#Worst rated movies\n",
        "movie_stat = movie_stat.merge(movies[['movieId', 'title']])\n",
        "movie_stat.sort_values('bayesian_avg', ascending=False).head()\n"
      ]
    },
    {
      "cell_type": "code",
      "execution_count": 46,
      "metadata": {
        "id": "qPFf1x2vnOi8",
        "colab": {
          "base_uri": "https://localhost:8080/",
          "height": 206
        },
        "outputId": "09801123-236e-419c-a7fa-f8768595ab48"
      },
      "outputs": [
        {
          "output_type": "execute_result",
          "data": {
            "text/plain": [
              "      movieId  count      mean  bayesian_avg  \\\n",
              "1172     1556     19  1.605263      2.190377   \n",
              "2679     3593     19  1.657895      2.224426   \n",
              "1372     1882     33  1.954545      2.267268   \n",
              "1144     1499     27  1.925926      2.296800   \n",
              "1988     2643     16  1.687500      2.306841   \n",
              "\n",
              "                                        title  \n",
              "1172           Speed 2: Cruise Control (1997)  \n",
              "2679                 Battlefield Earth (2000)  \n",
              "1372                          Godzilla (1998)  \n",
              "1144                          Anaconda (1997)  \n",
              "1988  Superman IV: The Quest for Peace (1987)  "
            ],
            "text/html": [
              "\n",
              "  <div id=\"df-8a785950-4ef7-4f74-88c1-739367ec6f44\">\n",
              "    <div class=\"colab-df-container\">\n",
              "      <div>\n",
              "<style scoped>\n",
              "    .dataframe tbody tr th:only-of-type {\n",
              "        vertical-align: middle;\n",
              "    }\n",
              "\n",
              "    .dataframe tbody tr th {\n",
              "        vertical-align: top;\n",
              "    }\n",
              "\n",
              "    .dataframe thead th {\n",
              "        text-align: right;\n",
              "    }\n",
              "</style>\n",
              "<table border=\"1\" class=\"dataframe\">\n",
              "  <thead>\n",
              "    <tr style=\"text-align: right;\">\n",
              "      <th></th>\n",
              "      <th>movieId</th>\n",
              "      <th>count</th>\n",
              "      <th>mean</th>\n",
              "      <th>bayesian_avg</th>\n",
              "      <th>title</th>\n",
              "    </tr>\n",
              "  </thead>\n",
              "  <tbody>\n",
              "    <tr>\n",
              "      <th>1172</th>\n",
              "      <td>1556</td>\n",
              "      <td>19</td>\n",
              "      <td>1.605263</td>\n",
              "      <td>2.190377</td>\n",
              "      <td>Speed 2: Cruise Control (1997)</td>\n",
              "    </tr>\n",
              "    <tr>\n",
              "      <th>2679</th>\n",
              "      <td>3593</td>\n",
              "      <td>19</td>\n",
              "      <td>1.657895</td>\n",
              "      <td>2.224426</td>\n",
              "      <td>Battlefield Earth (2000)</td>\n",
              "    </tr>\n",
              "    <tr>\n",
              "      <th>1372</th>\n",
              "      <td>1882</td>\n",
              "      <td>33</td>\n",
              "      <td>1.954545</td>\n",
              "      <td>2.267268</td>\n",
              "      <td>Godzilla (1998)</td>\n",
              "    </tr>\n",
              "    <tr>\n",
              "      <th>1144</th>\n",
              "      <td>1499</td>\n",
              "      <td>27</td>\n",
              "      <td>1.925926</td>\n",
              "      <td>2.296800</td>\n",
              "      <td>Anaconda (1997)</td>\n",
              "    </tr>\n",
              "    <tr>\n",
              "      <th>1988</th>\n",
              "      <td>2643</td>\n",
              "      <td>16</td>\n",
              "      <td>1.687500</td>\n",
              "      <td>2.306841</td>\n",
              "      <td>Superman IV: The Quest for Peace (1987)</td>\n",
              "    </tr>\n",
              "  </tbody>\n",
              "</table>\n",
              "</div>\n",
              "      <button class=\"colab-df-convert\" onclick=\"convertToInteractive('df-8a785950-4ef7-4f74-88c1-739367ec6f44')\"\n",
              "              title=\"Convert this dataframe to an interactive table.\"\n",
              "              style=\"display:none;\">\n",
              "        \n",
              "  <svg xmlns=\"http://www.w3.org/2000/svg\" height=\"24px\"viewBox=\"0 0 24 24\"\n",
              "       width=\"24px\">\n",
              "    <path d=\"M0 0h24v24H0V0z\" fill=\"none\"/>\n",
              "    <path d=\"M18.56 5.44l.94 2.06.94-2.06 2.06-.94-2.06-.94-.94-2.06-.94 2.06-2.06.94zm-11 1L8.5 8.5l.94-2.06 2.06-.94-2.06-.94L8.5 2.5l-.94 2.06-2.06.94zm10 10l.94 2.06.94-2.06 2.06-.94-2.06-.94-.94-2.06-.94 2.06-2.06.94z\"/><path d=\"M17.41 7.96l-1.37-1.37c-.4-.4-.92-.59-1.43-.59-.52 0-1.04.2-1.43.59L10.3 9.45l-7.72 7.72c-.78.78-.78 2.05 0 2.83L4 21.41c.39.39.9.59 1.41.59.51 0 1.02-.2 1.41-.59l7.78-7.78 2.81-2.81c.8-.78.8-2.07 0-2.86zM5.41 20L4 18.59l7.72-7.72 1.47 1.35L5.41 20z\"/>\n",
              "  </svg>\n",
              "      </button>\n",
              "      \n",
              "  <style>\n",
              "    .colab-df-container {\n",
              "      display:flex;\n",
              "      flex-wrap:wrap;\n",
              "      gap: 12px;\n",
              "    }\n",
              "\n",
              "    .colab-df-convert {\n",
              "      background-color: #E8F0FE;\n",
              "      border: none;\n",
              "      border-radius: 50%;\n",
              "      cursor: pointer;\n",
              "      display: none;\n",
              "      fill: #1967D2;\n",
              "      height: 32px;\n",
              "      padding: 0 0 0 0;\n",
              "      width: 32px;\n",
              "    }\n",
              "\n",
              "    .colab-df-convert:hover {\n",
              "      background-color: #E2EBFA;\n",
              "      box-shadow: 0px 1px 2px rgba(60, 64, 67, 0.3), 0px 1px 3px 1px rgba(60, 64, 67, 0.15);\n",
              "      fill: #174EA6;\n",
              "    }\n",
              "\n",
              "    [theme=dark] .colab-df-convert {\n",
              "      background-color: #3B4455;\n",
              "      fill: #D2E3FC;\n",
              "    }\n",
              "\n",
              "    [theme=dark] .colab-df-convert:hover {\n",
              "      background-color: #434B5C;\n",
              "      box-shadow: 0px 1px 3px 1px rgba(0, 0, 0, 0.15);\n",
              "      filter: drop-shadow(0px 1px 2px rgba(0, 0, 0, 0.3));\n",
              "      fill: #FFFFFF;\n",
              "    }\n",
              "  </style>\n",
              "\n",
              "      <script>\n",
              "        const buttonEl =\n",
              "          document.querySelector('#df-8a785950-4ef7-4f74-88c1-739367ec6f44 button.colab-df-convert');\n",
              "        buttonEl.style.display =\n",
              "          google.colab.kernel.accessAllowed ? 'block' : 'none';\n",
              "\n",
              "        async function convertToInteractive(key) {\n",
              "          const element = document.querySelector('#df-8a785950-4ef7-4f74-88c1-739367ec6f44');\n",
              "          const dataTable =\n",
              "            await google.colab.kernel.invokeFunction('convertToInteractive',\n",
              "                                                     [key], {});\n",
              "          if (!dataTable) return;\n",
              "\n",
              "          const docLinkHtml = 'Like what you see? Visit the ' +\n",
              "            '<a target=\"_blank\" href=https://colab.research.google.com/notebooks/data_table.ipynb>data table notebook</a>'\n",
              "            + ' to learn more about interactive tables.';\n",
              "          element.innerHTML = '';\n",
              "          dataTable['output_type'] = 'display_data';\n",
              "          await google.colab.output.renderOutput(dataTable, element);\n",
              "          const docLink = document.createElement('div');\n",
              "          docLink.innerHTML = docLinkHtml;\n",
              "          element.appendChild(docLink);\n",
              "        }\n",
              "      </script>\n",
              "    </div>\n",
              "  </div>\n",
              "  "
            ]
          },
          "metadata": {},
          "execution_count": 46
        }
      ],
      "source": [
        "#Best rated movies\n",
        "movie_stat.sort_values('bayesian_avg', ascending=True).head()"
      ]
    },
    {
      "cell_type": "code",
      "execution_count": 47,
      "metadata": {
        "id": "sxXGi5SdngI_"
      },
      "outputs": [],
      "source": [
        "movies['genres'] = movies['genres'].apply(lambda x: x.split(\"|\"))"
      ]
    },
    {
      "cell_type": "code",
      "execution_count": null,
      "metadata": {
        "colab": {
          "base_uri": "https://localhost:8080/"
        },
        "id": "tgyQMnZDn3Ng",
        "outputId": "9d5aafae-fd29-47cd-bfda-5c086f0ed25d"
      },
      "outputs": [
        {
          "output_type": "stream",
          "name": "stdout",
          "text": [
            "There are 20 genres.\n"
          ]
        },
        {
          "output_type": "execute_result",
          "data": {
            "text/plain": [
              "Counter({'(no genres listed)': 34,\n",
              "         'Action': 1828,\n",
              "         'Adventure': 1263,\n",
              "         'Animation': 611,\n",
              "         'Children': 664,\n",
              "         'Comedy': 3756,\n",
              "         'Crime': 1199,\n",
              "         'Documentary': 440,\n",
              "         'Drama': 4361,\n",
              "         'Fantasy': 779,\n",
              "         'Film-Noir': 87,\n",
              "         'Horror': 978,\n",
              "         'IMAX': 158,\n",
              "         'Musical': 334,\n",
              "         'Mystery': 573,\n",
              "         'Romance': 1596,\n",
              "         'Sci-Fi': 980,\n",
              "         'Thriller': 1894,\n",
              "         'War': 382,\n",
              "         'Western': 167})"
            ]
          },
          "metadata": {},
          "execution_count": 11
        }
      ],
      "source": [
        "#List of genres\n",
        "from collections import Counter\n",
        "\n",
        "genre_frequency = Counter(g for genres in movies['genres'] for g in genres)\n",
        "\n",
        "print(f\"There are {len(genre_frequency)} genres.\")\n",
        "\n",
        "genre_frequency"
      ]
    },
    {
      "cell_type": "code",
      "execution_count": 48,
      "metadata": {
        "id": "fRHsfQfmomRb"
      },
      "outputs": [],
      "source": [
        "#To make a sparse matrix\n",
        "from scipy.sparse import csr_matrix\n",
        "\n",
        "def create_X(df):\n",
        "    \"\"\"\n",
        "    Generates a sparse matrix from ratings dataframe.\n",
        "\n",
        "    Args:\n",
        "        df: pandas dataframe containing 3 columns (userId, movieId, rating)\n",
        "\n",
        "    Returns:\n",
        "        X: sparse matrix\n",
        "        user_mapper: dict that maps user id's to user indices\n",
        "        user_inv_mapper: dict that maps user indices to user id's\n",
        "        movie_mapper: dict that maps movie id's to movie indices\n",
        "        movie_inv_mapper: dict that maps movie indices to movie id's\n",
        "    \"\"\"\n",
        "    M = df['userId'].nunique()\n",
        "    N = df['movieId'].nunique()\n",
        "\n",
        "    user_mapper = dict(zip(np.unique(df[\"userId\"]), list(range(M))))\n",
        "    movie_mapper = dict(zip(np.unique(df[\"movieId\"]), list(range(N))))\n",
        "\n",
        "    user_inv_mapper = dict(zip(list(range(M)), np.unique(df[\"userId\"])))\n",
        "    movie_inv_mapper = dict(zip(list(range(N)), np.unique(df[\"movieId\"])))\n",
        "\n",
        "    user_index = [user_mapper[i] for i in df['userId']]\n",
        "    item_index = [movie_mapper[i] for i in df['movieId']]\n",
        "\n",
        "    X = csr_matrix((df[\"rating\"], (user_index,item_index)), shape=(M,N))\n",
        "\n",
        "    return X, user_mapper, movie_mapper, user_inv_mapper, movie_inv_mapper\n",
        "\n",
        "X, user_mapper, movie_mapper, user_inv_mapper, movie_inv_mapper = create_X(ratings)"
      ]
    },
    {
      "cell_type": "code",
      "execution_count": 49,
      "metadata": {
        "id": "7lpmElYvpQOc"
      },
      "outputs": [],
      "source": [
        "n_total = X.shape[0]*X.shape[1]\n",
        "n_ratings = X.nnz\n",
        "sparsity = n_ratings/n_total\n",
        "n_ratings_per_movie = X.getnnz(axis=0)"
      ]
    },
    {
      "cell_type": "code",
      "execution_count": 50,
      "metadata": {
        "id": "0712Pfv5qeIS"
      },
      "outputs": [],
      "source": [
        "sum_ratings_per_movie = X.sum(axis=0)\n",
        "mean_rating_per_movie = sum_ratings_per_movie/n_ratings_per_movie"
      ]
    },
    {
      "cell_type": "code",
      "execution_count": 51,
      "metadata": {
        "colab": {
          "base_uri": "https://localhost:8080/"
        },
        "id": "s-qQKf2brDNM",
        "outputId": "11ec1126-4e13-424e-cf18-0787703de2bf"
      },
      "outputs": [
        {
          "output_type": "stream",
          "name": "stdout",
          "text": [
            "Original X: [[4. 0. 4. ... 0. 0. 0.]]\n",
            "Normalized X: [[ 0.07906977 -3.43181818  0.74038462 ... -3.5        -3.5\n",
            "  -4.        ]]\n"
          ]
        }
      ],
      "source": [
        "#To normalize the data \n",
        "X_mean_movie = np.tile(mean_rating_per_movie, (X.shape[0],1))\n",
        "X_mean_movie.shape\n",
        "X_norm = X - csr_matrix(X_mean_movie)\n",
        "\n",
        "print(\"Original X:\", X[0].todense())\n",
        "print(\"Normalized X:\", X_norm[0].todense())"
      ]
    },
    {
      "cell_type": "code",
      "execution_count": 52,
      "metadata": {
        "id": "zA68n0zVrRjJ"
      },
      "outputs": [],
      "source": [
        "#Main function to do collabrative filtering through KNN\n",
        "from sklearn.neighbors import NearestNeighbors\n",
        "\n",
        "def find_similar_movies(movie_id, X, movie_mapper, movie_inv_mapper, k, metric='cosine'):\n",
        "    \"\"\"\n",
        "    Finds k-nearest neighbours for a given movie id.\n",
        "\n",
        "    Args:\n",
        "        movie_id: id of the movie of interest\n",
        "        X: user-item utility matrix\n",
        "        k: number of similar movies to retrieve\n",
        "        metric: distance metric for kNN calculations\n",
        "\n",
        "    Output: returns list of k similar movie ID's\n",
        "    \"\"\"\n",
        "    X = X.T\n",
        "    neighbour_ids = []\n",
        "\n",
        "    movie_ind = movie_mapper[movie_id]\n",
        "    movie_vec = X[movie_ind]\n",
        "    if isinstance(movie_vec, (np.ndarray)):\n",
        "        movie_vec = movie_vec.reshape(1,-1)\n",
        "    # use k+1 since kNN output includes the movieId of interest\n",
        "    kNN = NearestNeighbors(n_neighbors=k+1, algorithm=\"brute\", metric=metric)\n",
        "    kNN.fit(X)\n",
        "    neighbour = kNN.kneighbors(movie_vec, return_distance=False)\n",
        "    for i in range(0,k):\n",
        "        n = neighbour.item(i)\n",
        "        neighbour_ids.append(movie_inv_mapper[n])\n",
        "    neighbour_ids.pop(0)\n",
        "    return neighbour_ids"
      ]
    },
    {
      "cell_type": "code",
      "execution_count": 53,
      "metadata": {
        "id": "xmsAUf2irZfU"
      },
      "outputs": [],
      "source": [
        "similar_movies = find_similar_movies(1, X_norm, movie_mapper, movie_inv_mapper, k=10)"
      ]
    },
    {
      "cell_type": "code",
      "execution_count": 67,
      "metadata": {
        "colab": {
          "base_uri": "https://localhost:8080/"
        },
        "id": "U8lYzcnlr1Ns",
        "outputId": "daea1f7b-e788-4363-84b0-629787449585"
      },
      "outputs": [
        {
          "output_type": "stream",
          "name": "stdout",
          "text": [
            "Enter movieID =5\n",
            "Enter no of recommendations :5\n",
            "Because you watched Father of the Bride Part II (1995):\n",
            "While You Were Sleeping (1995)\n",
            "City Slickers II: The Legend of Curly's Gold (1994)\n",
            "Sleepless in Seattle (1993)\n",
            "Coneheads (1993)\n"
          ]
        }
      ],
      "source": [
        "#Matrix Factorization and printing N recommendations\n",
        "movie_titles = dict(zip(movies['movieId'], movies['title']))\n",
        "\n",
        "movie_i = input(\"Enter movieID =\")\n",
        "movie_id=int(movie_i)\n",
        "l=input(\"Enter no of recommendations :\")\n",
        "r=int(l)\n",
        "similar_movies = find_similar_movies(movie_id, X_norm, movie_mapper, movie_inv_mapper, metric='cosine', k=r)\n",
        "movie_title = movie_titles[movie_id]\n",
        "n_movies = movies['movieId'].nunique()\n",
        "genres = set(g for G in movies['genres'] for g in G)\n",
        "for g in genres:\n",
        "    movies[g] = movies.genres.transform(lambda x: int(g in x))\n",
        "\n",
        "movie_genres = movies.drop(columns=['movieId', 'title','genres'])\n",
        "\n",
        "from sklearn.decomposition import TruncatedSVD\n",
        "svd = TruncatedSVD(n_components=20, n_iter=10)\n",
        "Z = svd.fit_transform(X.T)\n",
        "similar_movies = find_similar_movies(movie_id, Z.T, movie_mapper, movie_inv_mapper, metric='cosine', k=r)\n",
        "movie_title = movie_titles[movie_id]\n",
        "\n",
        "print(f\"Because you watched {movie_title}:\")\n",
        "for i in similar_movies:\n",
        "    print(movie_titles[i])"
      ]
    },
    {
      "cell_type": "code",
      "execution_count": 68,
      "metadata": {
        "colab": {
          "base_uri": "https://localhost:8080/"
        },
        "id": "tSQWBZG3uS_2",
        "outputId": "28fa0fc7-ac07-421f-e9a7-0cb78048fd93"
      },
      "outputs": [
        {
          "output_type": "stream",
          "name": "stdout",
          "text": [
            "Enter user Id :7\n",
            "Enter n 5\n",
            "Top 5 Recommendations for UserId 7:\n",
            "Star Wars: Episode IV - A New Hope (1977)\n",
            "Lord of the Rings: The Return of the King, The (2003)\n",
            "Lord of the Rings: The Two Towers, The (2002)\n",
            "Matrix, The (1999)\n",
            "Lord of the Rings: The Fellowship of the Ring, The (2001)\n"
          ]
        }
      ],
      "source": [
        "#Top N recommendations based on userId\n",
        "new_X = svd.inverse_transform(Z).T\n",
        "user=input(\"Enter user Id :\")\n",
        "userId = int(user)\n",
        "user_preferences = ratings[(ratings['userId']==userId)&(ratings['rating']>=4)]\n",
        "user_preferences = user_preferences.merge(movies[['movieId', 'title']])\n",
        "n=input(\"Enter n \")\n",
        "top_N = int(n)\n",
        "\n",
        "movie_titles = dict(zip(movies['movieId'], movies['title']))\n",
        "\n",
        "top_N_indices = new_X[user_mapper[userId]].argsort()[-top_N:][::-1]\n",
        "\n",
        "print(f\"Top {top_N} Recommendations for UserId {userId}:\")\n",
        "for i in top_N_indices:\n",
        "    movie_id = movie_inv_mapper[i]\n",
        "    print(movie_titles[movie_id])"
      ]
    },
    {
      "cell_type": "code",
      "execution_count": null,
      "metadata": {
        "id": "Z-Zm4TXfFmGR",
        "colab": {
          "base_uri": "https://localhost:8080/"
        },
        "outputId": "e6c3d6f5-a6f4-4747-8b73-fabaee330d5e"
      },
      "outputs": [
        {
          "output_type": "stream",
          "name": "stdout",
          "text": [
            "Overwriting app.py\n"
          ]
        }
      ],
      "source": [
        "%%writefile app.py\n",
        "#Frontend of the website \n",
        "import streamlit as st\n",
        "from PIL import Image\n",
        "import pandas as pd\n",
        "\n",
        "def run(movie_id,userId,r,cat):\n",
        " import numpy as np\n",
        " import pandas as pd\n",
        " import sklearn\n",
        " import matplotlib.pyplot as plt\n",
        " import seaborn as sns\n",
        " from sklearn.neighbors import NearestNeighbors\n",
        " from collections import Counter\n",
        " from scipy.sparse import csr_matrix\n",
        "\n",
        " import warnings\n",
        " warnings.simplefilter(action='ignore', category=FutureWarning)\n",
        "\n",
        " ratings = pd.read_csv(\"https://s3-us-west-2.amazonaws.com/recommender-tutorial/ratings.csv\")\n",
        "\n",
        " movies = pd.read_csv(\"https://s3-us-west-2.amazonaws.com/recommender-tutorial/movies.csv\")\n",
        "\n",
        " no_of_ratings = len(ratings)\n",
        " no_of_movies = len(ratings['movieId'].unique())\n",
        " no_of_users = len(ratings['userId'].unique())\n",
        "\n",
        " movies['genres'] = movies['genres'].apply(lambda x: x.split(\"|\"))\n",
        "\n",
        " genre_frequency = Counter(g for genres in movies['genres'] for g in genres)\n",
        "\n",
        " def create_X(df):\n",
        "     \"\"\"\n",
        "     Generates a sparse matrix from ratings dataframe.\n",
        "\n",
        "      Args:\n",
        "         df: pandas dataframe containing 3 columns (userId, movieId, rating)\n",
        "\n",
        "     Returns:\n",
        "         X: sparse matrix\n",
        "         user_mapper: dict that maps user id's to user indices\n",
        "         user_inv_mapper: dict that maps user indices to user id's\n",
        "         movie_mapper: dict that maps movie id's to movie indices\n",
        "         movie_inv_mapper: dict that maps movie indices to movie id's\n",
        "     \"\"\"\n",
        "     M = df['userId'].nunique()\n",
        "     N = df['movieId'].nunique()\n",
        "\n",
        "     user_mapper = dict(zip(np.unique(df[\"userId\"]), list(range(M))))\n",
        "     movie_mapper = dict(zip(np.unique(df[\"movieId\"]), list(range(N))))\n",
        "\n",
        "     user_inv_mapper = dict(zip(list(range(M)), np.unique(df[\"userId\"])))\n",
        "     movie_inv_mapper = dict(zip(list(range(N)), np.unique(df[\"movieId\"])))\n",
        "\n",
        "     user_index = [user_mapper[i] for i in df['userId']]\n",
        "     item_index = [movie_mapper[i] for i in df['movieId']]\n",
        "\n",
        "     X = csr_matrix((df[\"rating\"], (user_index,item_index)), shape=(M,N))\n",
        "\n",
        "     return X, user_mapper, movie_mapper, user_inv_mapper, movie_inv_mapper\n",
        "\n",
        " X, user_mapper, movie_mapper, user_inv_mapper, movie_inv_mapper = create_X(ratings)\n",
        "\n",
        " n_total = X.shape[0]*X.shape[1]\n",
        " n_ratings = X.nnz\n",
        " sparsity = n_ratings/n_total\n",
        " n_ratings_per_movie = X.getnnz(axis=0)\n",
        "\n",
        " sum_ratings_per_movie = X.sum(axis=0)\n",
        " mean_rating_per_movie = sum_ratings_per_movie/n_ratings_per_movie\n",
        "\n",
        " X_mean_movie = np.tile(mean_rating_per_movie, (X.shape[0],1))\n",
        " X_mean_movie.shape\n",
        " X_norm = X - csr_matrix(X_mean_movie)\n",
        "\n",
        " def find_similar_movies(movie_id, X, movie_mapper, movie_inv_mapper, k, metric='cosine'):\n",
        "     \"\"\"\n",
        "     Finds k-nearest neighbours for a given movie id.\n",
        "\n",
        "     Args:\n",
        "         movie_id: id of the movie of interest\n",
        "         X: user-item utility matrix\n",
        "         k: number of similar movies to retrieve\n",
        "         metric: distance metric for kNN calculations\n",
        "\n",
        "     Output: returns list of k similar movie ID's\n",
        "     \"\"\"\n",
        "     X = X.T\n",
        "     neighbour_ids = []\n",
        "\n",
        "     movie_ind = movie_mapper[movie_id]\n",
        "     movie_vec = X[movie_ind]\n",
        "     if isinstance(movie_vec, (np.ndarray)):\n",
        "         movie_vec = movie_vec.reshape(1,-1)\n",
        "     # use k+1 since kNN output includes the movieId of interest\n",
        "     kNN = NearestNeighbors(n_neighbors=k+1, algorithm=\"brute\", metric=metric)\n",
        "     kNN.fit(X)\n",
        "     neighbour = kNN.kneighbors(movie_vec, return_distance=False)\n",
        "     for i in range(0,k):\n",
        "         n = neighbour.item(i)\n",
        "         neighbour_ids.append(movie_inv_mapper[n])\n",
        "     neighbour_ids.pop(0)\n",
        "     return neighbour_ids  \n",
        " movie_titles = dict(zip(movies['movieId'], movies['title']))\n",
        " similar_movies = find_similar_movies(movie_id, X_norm, movie_mapper, movie_inv_mapper, metric='cosine', k=r)\n",
        " movie_title = movie_titles[movie_id]\n",
        " n_movies = movies['movieId'].nunique()\n",
        " genres = set(g for G in movies['genres'] for g in G)\n",
        " for g in genres:\n",
        "   movies[g] = movies.genres.transform(lambda x: int(g in x))\n",
        " movie_genres = movies.drop(columns=['movieId', 'title','genres'])\n",
        "\n",
        " from sklearn.decomposition import TruncatedSVD\n",
        " svd = TruncatedSVD(n_components=20, n_iter=10)\n",
        " Z = svd.fit_transform(X.T)\n",
        " similar_movies = find_similar_movies(movie_id, Z.T, movie_mapper, movie_inv_mapper, metric='cosine', k=r)\n",
        " movie_title = movie_titles[movie_id]\n",
        "\n",
        " if cat==1 :\n",
        "   st.write(\"Your N recommendation \")\n",
        "   for i in similar_movies:\n",
        "     st.write(movie_titles[i])     \n",
        "\n",
        " elif cat==2 :\n",
        "  new_X = svd.inverse_transform(Z).T\n",
        "  user_preferences = ratings[(ratings['userId']==userId)&(ratings['rating']>=4)]\n",
        "  user_preferences = user_preferences.merge(movies[['movieId', 'title']])\n",
        "\n",
        "  movie_titles = dict(zip(movies['movieId'], movies['title']))\n",
        "  top_N=r\n",
        "  top_N_indices = new_X[user_mapper[userId]].argsort()[-top_N:][::-1] \n",
        "  st.write(\"Top Recommendations for UserId \")\n",
        "  for i in top_N_indices:\n",
        "    movie_id = movie_inv_mapper[i]\n",
        "    st.write(movie_titles[movie_id])\n",
        "\n",
        "\n",
        "movies = pd.read_csv(\"https://s3-us-west-2.amazonaws.com/recommender-tutorial/movies.csv\")\n",
        "img1= Image.open('/content/image.jpg')\n",
        "img1=img1.resize((150,150),)\n",
        "st.image(img1,use_column_width=False)\n",
        "st.markdown(\"<h1 font-size:40px;color: white;'>MovieApp</h1>\", unsafe_allow_html=True)\n",
        "category = ['--Select--', 'Based on Movie', 'Based on userId']\n",
        "cat_op = st.selectbox('Select Recommendation Type', category)\n",
        "movie=movies['movieId']\n",
        "if cat_op == category[0]:\n",
        "  st.warning('Please select Recommendation Type!!')\n",
        "elif cat_op == category[1]:\n",
        "  select_movie = st.selectbox('Select movie: (Recommendation will be based on this selection)', movie)  \n",
        "  movie_id=int(select_movie)\n",
        "  movie_titles = dict(zip(movies['movieId'], movies['title']))\n",
        "  movie_title = movie_titles[movie_id]\n",
        "  st.write(movie_title)\n",
        "  no_of_reco = st.slider('Number of movies you want Recommended:', min_value=5, max_value=20, step=1)\n",
        "  run(movie_id,0,no_of_reco,1)\n",
        "elif cat_op ==category[2]:\n",
        "  user = st.number_input(\"Enter User Id\",step=1)\n",
        "  if(st.button('Submit')):\n",
        "   no_of_reco = st.slider('Number of movies you want Recommended:', min_value=5, max_value=20, step=1) \n",
        "   st.write(user)\n",
        "   run(0,user,no_of_reco,2)\n",
        "   \n",
        "  \n",
        "\n",
        "\n"
      ]
    },
    {
      "cell_type": "code",
      "execution_count": 70,
      "metadata": {
        "id": "CFWQnpGmekwi",
        "colab": {
          "base_uri": "https://localhost:8080/"
        },
        "outputId": "84b39d1a-780f-4cbc-e4bf-f9fcce542545"
      },
      "outputs": [
        {
          "output_type": "stream",
          "name": "stdout",
          "text": [
            "2022-05-28 21:37:33.059 INFO    numexpr.utils: NumExpr defaulting to 2 threads.\n",
            "\u001b[K\u001b[?25hnpx: installed 22 in 2.362s\n",
            "your url is: https://chilly-tires-shout-35-225-39-254.loca.lt\n",
            "\u001b[0m\n",
            "\u001b[34m\u001b[1m  You can now view your Streamlit app in your browser.\u001b[0m\n",
            "\u001b[0m\n",
            "\u001b[34m  Network URL: \u001b[0m\u001b[1mhttp://172.28.0.2:8501\u001b[0m\n",
            "\u001b[34m  External URL: \u001b[0m\u001b[1mhttp://35.225.39.254:8501\u001b[0m\n",
            "\u001b[0m\n",
            "2022-05-28 21:38:36.849 Traceback (most recent call last):\n",
            "  File \"/usr/local/lib/python3.7/dist-packages/streamlit/scriptrunner/script_runner.py\", line 475, in _run_script\n",
            "    exec(code, module.__dict__)\n",
            "  File \"/content/app.py\", line 159, in <module>\n",
            "    run(0,user,no_of_reco,2)\n",
            "  File \"/content/app.py\", line 103, in run\n",
            "    similar_movies = find_similar_movies(movie_id, X_norm, movie_mapper, movie_inv_mapper, metric='cosine', k=r)\n",
            "  File \"/content/app.py\", line 89, in find_similar_movies\n",
            "    movie_ind = movie_mapper[movie_id]\n",
            "KeyError: 0\n",
            "\n",
            "\u001b[34m  Stopping...\u001b[0m\n",
            "^C\n"
          ]
        }
      ],
      "source": [
        "!streamlit run app.py & npx localtunnel --port 8501\n",
        "\n",
        "\n"
      ]
    },
    {
      "cell_type": "markdown",
      "metadata": {
        "id": "w0-I697GHewO"
      },
      "source": [
        ""
      ]
    }
  ],
  "metadata": {
    "colab": {
      "name": "Movie_Recommendation.ipynb",
      "provenance": [],
      "authorship_tag": "ABX9TyNeqoe1dqseBYnOBug7e01C",
      "include_colab_link": true
    },
    "kernelspec": {
      "display_name": "Python 3",
      "name": "python3"
    },
    "language_info": {
      "name": "python"
    }
  },
  "nbformat": 4,
  "nbformat_minor": 0
}